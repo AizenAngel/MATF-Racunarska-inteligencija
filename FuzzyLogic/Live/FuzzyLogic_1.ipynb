{
 "cells": [
  {
   "cell_type": "code",
   "execution_count": 15,
   "metadata": {},
   "outputs": [],
   "source": [
    "class MFInput:\n",
    "    def __init__(self, name, x, y, x0):\n",
    "        self.name = name\n",
    "        self.points = [(x[i], y[i]) for i in range(len(x))]\n",
    "        self.mi = self.getMi(x0)\n",
    "        \n",
    "    def getY(self, x1, y1, x2, y2, x0):\n",
    "        if y1 == y2:\n",
    "            return y1\n",
    "        if y1 < y2:\n",
    "            return (x0 - x1) / (x2 - x1)\n",
    "        else:\n",
    "            return (x2 - x0) / (x2 - x1)\n",
    "    def getMi(self, x0):\n",
    "        if x0 < self.points[0][0]:\n",
    "            return self.points[0][1]\n",
    "        if x0 > self.points[-1][0]:\n",
    "            return self.points[-1][1]\n",
    "        for i in range(1, len(self.points)):\n",
    "            x1 = self.points[i-1][0]\n",
    "            x2 = self.points[i][0]\n",
    "            if x0 >= x1 and x0 < x2:\n",
    "                y1 = self.points[i-1][1]\n",
    "                y2 = self.points[i][1]\n",
    "                return self.getY(x1, y1, x2, y2, x0)\n",
    "        return -1"
   ]
  },
  {
   "cell_type": "code",
   "execution_count": 16,
   "metadata": {},
   "outputs": [],
   "source": [
    "class MFOutput:\n",
    "    def __init__(self, name, x, y):\n",
    "        self.name = name\n",
    "        self.points = []\n",
    "        sumX = 0\n",
    "        nb1 = 0\n",
    "        for i in range(len(x)):\n",
    "            self.points.append((x[i], y[i]))\n",
    "            if y[i] == 1:\n",
    "                sumX += x[i]\n",
    "                nb1 += 1\n",
    "        self.value = sumX / nb1\n",
    "        self.mi = 0\n",
    "            "
   ]
  },
  {
   "cell_type": "code",
   "execution_count": 17,
   "metadata": {},
   "outputs": [],
   "source": [
    "from enum import Enum, unique\n",
    "@unique\n",
    "class Logic(Enum):\n",
    "    OR = 0\n",
    "    AND = 1"
   ]
  },
  {
   "cell_type": "code",
   "execution_count": 18,
   "metadata": {},
   "outputs": [],
   "source": [
    "class Rule:\n",
    "    def __init__(self, mfi1, mfi2, mfo, logic):\n",
    "        self.mfInput1 = mfi1\n",
    "        self.mfInput2 = mfi2\n",
    "        self.mfOutput = mfo\n",
    "        if logic == Logic.OR:\n",
    "            self.mfOutput.mi = max(self.mfOutput.mi, max(self.mfInput1.mi, self.mfInput2.mi))\n",
    "        if logic == Logic.AND:\n",
    "            self.mfOutput.mi = max(self.mfOutput.mi, min(self.mfInput1.mi, self.mfInput2.mi))"
   ]
  },
  {
   "cell_type": "code",
   "execution_count": 21,
   "metadata": {},
   "outputs": [],
   "source": [
    "def main():\n",
    "    potrosnja = []\n",
    "    potrosnja.append(MFInput(\"mala\", [3, 10], [1, 0], 9))\n",
    "    potrosnja.append(MFInput(\"srednja\", [7, 10, 12, 15], [0, 1, 1, 0], 9))\n",
    "    potrosnja.append(MFInput(\"velika\", [12, 15], [0, 1], 9))\n",
    "    \n",
    "    pouzdanost = []\n",
    "    pouzdanost.append(MFInput(\"visoka\", [5, 10], [1, 0], 8))\n",
    "    pouzdanost.append(MFInput(\"niska\", [8, 15], [0, 1], 8))\n",
    "    \n",
    "    vrednost = []\n",
    "    vrednost.append(MFOutput(\"mala\", [7, 15], [1, 0]))\n",
    "    vrednost.append(MFOutput(\"srednja\", [7, 15, 25, 40], [0, 1, 1, 0]))\n",
    "    vrednost.append(MFOutput(\"visoka\", [25, 40], [0, 1]))\n",
    "    \n",
    "    rules = []\n",
    "    rules.append(Rule(potrosnja[0], pouzdanost[1], vrednost[1], Logic.AND))\n",
    "    rules.append(Rule(potrosnja[0], pouzdanost[0], vrednost[2], Logic.AND))\n",
    "    rules.append(Rule(potrosnja[1], pouzdanost[1], vrednost[1], Logic.AND))\n",
    "    rules.append(Rule(potrosnja[1], pouzdanost[0], vrednost[1], Logic.AND))\n",
    "    rules.append(Rule(potrosnja[2], pouzdanost[1], vrednost[0], Logic.AND))\n",
    "    rules.append(Rule(potrosnja[2], pouzdanost[0], vrednost[1], Logic.AND))\n",
    "    \n",
    "    numerator = 0\n",
    "    denominator = 0\n",
    "    for mfo in vrednost:\n",
    "        numerator += mfo.mi * mfo.value\n",
    "        denominator += mfo.mi\n",
    "    \n",
    "    solution = numerator / denominator\n",
    "    \n",
    "    print(solution)\n"
   ]
  },
  {
   "cell_type": "code",
   "execution_count": 22,
   "metadata": {},
   "outputs": [
    {
     "name": "stdout",
     "output_type": "stream",
     "text": [
      "25.26315789473684\n"
     ]
    }
   ],
   "source": [
    "main()"
   ]
  },
  {
   "cell_type": "code",
   "execution_count": null,
   "metadata": {},
   "outputs": [],
   "source": []
  }
 ],
 "metadata": {
  "kernelspec": {
   "display_name": "Python 3",
   "language": "python",
   "name": "python3"
  },
  "language_info": {
   "codemirror_mode": {
    "name": "ipython",
    "version": 3
   },
   "file_extension": ".py",
   "mimetype": "text/x-python",
   "name": "python",
   "nbconvert_exporter": "python",
   "pygments_lexer": "ipython3",
   "version": "3.6.8"
  }
 },
 "nbformat": 4,
 "nbformat_minor": 2
}
