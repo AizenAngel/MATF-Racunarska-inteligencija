{
 "cells": [
  {
   "cell_type": "code",
   "execution_count": 1,
   "metadata": {},
   "outputs": [],
   "source": [
    "class MFInput:\n",
    "    \n",
    "    def __init__(self, name, x, y, x0):\n",
    "        \n",
    "        self.name = name\n",
    "        # list of tuples\n",
    "        self.points = [(x[i], y[i]) for i in range(len(x))]\n",
    "        self.mi = self.getMi(x0)\n",
    "        \n",
    "    def getY(self, x1, y1, x2, y2, x0):\n",
    "        \n",
    "        if y1 == y2:\n",
    "            return y1\n",
    "        if y1 < y2:\n",
    "            return (x0 - x1) / (x2 -x1)\n",
    "        return (x2 - x0) / (x2 - x1)\n",
    "    \n",
    "    def getMi(self, x0):\n",
    "        \n",
    "        if x0 < self.points[0][0]: \n",
    "            return self.points[0][1]\n",
    "        if x0 > self.points[-1][0]:\n",
    "            return self.points[-1][1]\n",
    "        for i in range(1,len(self.points)):\n",
    "            x1 = self.points[i - 1][0]\n",
    "            x2 = self.points[i][0]\n",
    "            if x0 >= x1 and x0 < x2:\n",
    "                y1 = self.points[i - 1][1]\n",
    "                y2 = self.points[i][1]\n",
    "                return self.getY(x1, y1, x2, y2, x0)\n",
    "        return -1"
   ]
  },
  {
   "cell_type": "code",
   "execution_count": 2,
   "metadata": {},
   "outputs": [],
   "source": [
    "class MFOutput:\n",
    "    def __init__(self, name, x, y):\n",
    "        self.name = name\n",
    "        sumX = 0\n",
    "        nb1 = 0\n",
    "        self.points = []\n",
    "        for i in range(len(x)):\n",
    "            self.points.append((x[i], y[i]))\n",
    "            if y[i] == 1:\n",
    "                sumX += x[i]\n",
    "                nb1 += 1\n",
    "        self.mi = 0\n",
    "        self.value = sumX / nb1"
   ]
  },
  {
   "cell_type": "code",
   "execution_count": 3,
   "metadata": {},
   "outputs": [],
   "source": [
    "from enum import Enum, unique\n",
    "@unique\n",
    "class Logic(Enum):\n",
    "    OR = 0\n",
    "    AND = 1"
   ]
  },
  {
   "cell_type": "code",
   "execution_count": 17,
   "metadata": {},
   "outputs": [],
   "source": [
    "class Rule:\n",
    "    def __init__(self, mfo):\n",
    "        self.mfOutput = mfo\n",
    "        \n",
    "    def addInputs(self, mfi1, mfi2, logic):\n",
    "        self.mfInput1 = mfi1\n",
    "        self.mfInput2 = mfi2\n",
    "        if logic == Logic.OR:\n",
    "            self.mfOutput.mi = max(self.mfOutput.mi, max(self.mfInput1.mi, self.mfInput2.mi))\n",
    "        else:\n",
    "            self.mfOutput.mi = max(self.mfOutput.mi, min(self.mfInput1.mi, self.mfInput2.mi))\n",
    "            \n",
    "    def addInput(self, mfi):\n",
    "        self.mfInput = mfi\n",
    "        self.mfOutput.mi = max(self.mfOutput.mi, self.mfInput.mi)\n",
    "        "
   ]
  },
  {
   "cell_type": "code",
   "execution_count": 20,
   "metadata": {},
   "outputs": [],
   "source": [
    "def main():\n",
    "    kvalitet = []\n",
    "    kvalitet.append(MFInput(\"los\", [0, 5], [1, 0], 6.5))\n",
    "    kvalitet.append(MFInput(\"prosek\", [0, 5, 10], [0, 1, 0], 6.5))\n",
    "    kvalitet.append(MFInput(\"dobar\", [5, 10], [0, 1], 6.5))\n",
    "    \n",
    "    usluga = []\n",
    "    usluga.append(MFInput(\"losa\", [0, 5], [1, 0], 9.8))\n",
    "    usluga.append(MFInput(\"prosek\", [0, 5, 10], [0, 1, 0], 9.8))\n",
    "    usluga.append(MFInput(\"dobra\", [5, 10], [0, 1], 9.8))\n",
    "    \n",
    "    napojnica = []\n",
    "    napojnica.append(MFOutput(\"mala\", [0, 13], [1, 0]))\n",
    "    napojnica.append(MFOutput(\"srednja\", [0, 13, 25], [0, 1, 0]))\n",
    "    napojnica.append(MFOutput(\"velika\", [13, 25], [0, 1]))\n",
    "    \n",
    "    rules = []\n",
    "    rules.append(Rule(napojnica[0]).addInputs(kvalitet[0], usluga[0], Logic.OR))\n",
    "    rules.append(Rule(napojnica[1]).addInput(usluga[1]))\n",
    "    rules.append(Rule(napojnica[2]).addInputs(kvalitet[2], usluga[2], Logic.OR))\n",
    "    \n",
    "    numerator = 0\n",
    "    denominator = 0 \n",
    "    for mfo in napojnica:\n",
    "        numerator += mfo.mi * mfo.value\n",
    "        denominator += mfo.mi\n",
    "    solution = numerator / denominator\n",
    "    \n",
    "    print(\"Kvalitet:\")\n",
    "    for mfi in kvalitet:\n",
    "        print(mfi.name, mfi.mi)\n",
    "    print(\"Usluga:\")\n",
    "    for mfi in usluga:\n",
    "        print(mfi.name, mfi.mi)\n",
    "    print(\"Napojnica\")\n",
    "    for mfo in napojnica:\n",
    "        print(mfo.name, mfo.mi, mfo.value)    \n",
    "    print(\"Resenje je {}\".format(solution))"
   ]
  },
  {
   "cell_type": "code",
   "execution_count": 21,
   "metadata": {},
   "outputs": [
    {
     "ename": "NameError",
     "evalue": "name 'vrednost' is not defined",
     "output_type": "error",
     "traceback": [
      "\u001b[0;31m---------------------------------------------------------------------------\u001b[0m",
      "\u001b[0;31mNameError\u001b[0m                                 Traceback (most recent call last)",
      "\u001b[0;32m<ipython-input-21-263240bbee7e>\u001b[0m in \u001b[0;36m<module>\u001b[0;34m\u001b[0m\n\u001b[0;32m----> 1\u001b[0;31m \u001b[0mmain\u001b[0m\u001b[0;34m(\u001b[0m\u001b[0;34m)\u001b[0m\u001b[0;34m\u001b[0m\u001b[0;34m\u001b[0m\u001b[0m\n\u001b[0m",
      "\u001b[0;32m<ipython-input-20-b13dd984e77c>\u001b[0m in \u001b[0;36mmain\u001b[0;34m()\u001b[0m\n\u001b[1;32m     22\u001b[0m     \u001b[0mnumerator\u001b[0m \u001b[0;34m=\u001b[0m \u001b[0;36m0\u001b[0m\u001b[0;34m\u001b[0m\u001b[0;34m\u001b[0m\u001b[0m\n\u001b[1;32m     23\u001b[0m     \u001b[0mdenominator\u001b[0m \u001b[0;34m=\u001b[0m \u001b[0;36m0\u001b[0m\u001b[0;34m\u001b[0m\u001b[0;34m\u001b[0m\u001b[0m\n\u001b[0;32m---> 24\u001b[0;31m     \u001b[0;32mfor\u001b[0m \u001b[0mmfo\u001b[0m \u001b[0;32min\u001b[0m \u001b[0mvrednost\u001b[0m\u001b[0;34m:\u001b[0m\u001b[0;34m\u001b[0m\u001b[0;34m\u001b[0m\u001b[0m\n\u001b[0m\u001b[1;32m     25\u001b[0m         \u001b[0mnumerator\u001b[0m \u001b[0;34m+=\u001b[0m \u001b[0mmfo\u001b[0m\u001b[0;34m.\u001b[0m\u001b[0mmi\u001b[0m \u001b[0;34m*\u001b[0m \u001b[0mmfo\u001b[0m\u001b[0;34m.\u001b[0m\u001b[0mvalue\u001b[0m\u001b[0;34m\u001b[0m\u001b[0;34m\u001b[0m\u001b[0m\n\u001b[1;32m     26\u001b[0m         \u001b[0mdenominator\u001b[0m \u001b[0;34m+=\u001b[0m \u001b[0mmfo\u001b[0m\u001b[0;34m.\u001b[0m\u001b[0mmi\u001b[0m\u001b[0;34m\u001b[0m\u001b[0;34m\u001b[0m\u001b[0m\n",
      "\u001b[0;31mNameError\u001b[0m: name 'vrednost' is not defined"
     ]
    }
   ],
   "source": [
    "main()"
   ]
  },
  {
   "cell_type": "code",
   "execution_count": null,
   "metadata": {},
   "outputs": [],
   "source": []
  }
 ],
 "metadata": {
  "kernelspec": {
   "display_name": "Python 3",
   "language": "python",
   "name": "python3"
  },
  "language_info": {
   "codemirror_mode": {
    "name": "ipython",
    "version": 3
   },
   "file_extension": ".py",
   "mimetype": "text/x-python",
   "name": "python",
   "nbconvert_exporter": "python",
   "pygments_lexer": "ipython3",
   "version": "3.6.8"
  }
 },
 "nbformat": 4,
 "nbformat_minor": 2
}
