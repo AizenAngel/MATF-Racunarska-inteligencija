{
 "cells": [
  {
   "cell_type": "code",
   "execution_count": 31,
   "metadata": {},
   "outputs": [],
   "source": [
    "import numpy as np\n"
   ]
  },
  {
   "cell_type": "code",
   "execution_count": 32,
   "metadata": {},
   "outputs": [],
   "source": [
    "#Sigmoidna funkcija\n",
    "def sigmoid(x):\n",
    "    return 1 / (1 + np.exp(-x))"
   ]
  },
  {
   "cell_type": "code",
   "execution_count": 33,
   "metadata": {},
   "outputs": [],
   "source": [
    "#Azuriranje vrednosti vektora\n",
    "def updateWeights(y, x, w):\n",
    "    u = np.inner(x, w)\n",
    "    o = sigmoid(u)\n",
    "    deltaW = ((y - o) * o * (1 - o)) * x\n",
    "    w = w + deltaW\n",
    "    "
   ]
  },
  {
   "cell_type": "code",
   "execution_count": null,
   "metadata": {},
   "outputs": [],
   "source": [
    "X = np.array([[2, 3, 1, 0], [3, 1, 1, 0], [4, 3, 5, 2], [4, 4, 6, 3]])\n",
    "y = np.array([1, 1, 0, 0])\n",
    "w = np.array([0.5, 0.5, 0.5, 0.5])\n",
    "\n",
    "#Maksimalan broj iteracija\n",
    "iters = 10000\n",
    "\n",
    "n = X.shape[0]\n"
   ]
  },
  {
   "cell_type": "code",
   "execution_count": 35,
   "metadata": {},
   "outputs": [],
   "source": [
    "#Proces ucenja\n",
    "for _ in range(iters):\n",
    "    index = np.random.randint(n)\n",
    "    updateWeights(X[index], y[index], w)"
   ]
  },
  {
   "cell_type": "code",
   "execution_count": 36,
   "metadata": {},
   "outputs": [
    {
     "name": "stdout",
     "output_type": "stream",
     "text": [
      "1 0.9525741268224334\n",
      "1 0.9241418199787566\n",
      "0 0.9990889488055994\n",
      "0 0.9997965730219448\n"
     ]
    }
   ],
   "source": [
    "#Testiranje\n",
    "for i in range(n):\n",
    "    o = sigmoid(np.inner(X[i], w))\n",
    "    print(y[i], o)"
   ]
  }
 ],
 "metadata": {
  "kernelspec": {
   "display_name": "Python 3",
   "language": "python",
   "name": "python3"
  },
  "language_info": {
   "codemirror_mode": {
    "name": "ipython",
    "version": 3
   },
   "file_extension": ".py",
   "mimetype": "text/x-python",
   "name": "python",
   "nbconvert_exporter": "python",
   "pygments_lexer": "ipython3",
   "version": "3.7.5"
  }
 },
 "nbformat": 4,
 "nbformat_minor": 2
}
