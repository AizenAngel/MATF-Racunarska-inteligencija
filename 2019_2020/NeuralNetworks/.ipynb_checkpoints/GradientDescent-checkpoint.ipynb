{
 "cells": [
  {
   "cell_type": "code",
   "execution_count": 71,
   "metadata": {},
   "outputs": [],
   "source": [
    "import numpy as np"
   ]
  },
  {
   "cell_type": "markdown",
   "metadata": {},
   "source": [
    "Izracunati gradijent funkcije:\n",
    "<br><br>\n",
    "$f(x_1, x_2) = \\frac{1}{2}(x_1^2 + 10x_2^2)$\n"
   ]
  },
  {
   "cell_type": "markdown",
   "metadata": {},
   "source": [
    "Racunamo izvode za funkciju.\n",
    "\n",
    "$f(x_1, x_2) = \\frac{1}{2}x_1^2 + 5x_2^2$\n",
    "\n",
    "Odnosno:\n",
    "\n",
    "$f'_{x_1}(x_1, x_2) = x_1$\n",
    "\n",
    "$f'_{x_2}(x_1, x_2) = 10x_2$\n",
    "\n",
    "$\\nabla f(x_1, x_2) = (x_1, 10x_2)$"
   ]
  },
  {
   "cell_type": "code",
   "execution_count": 72,
   "metadata": {},
   "outputs": [],
   "source": [
    "def f(x):\n",
    "    x1 = x[0]\n",
    "    x2 = x[1]\n",
    "    return 0.5*(x1**2 + 10*x2**2)"
   ]
  },
  {
   "cell_type": "code",
   "execution_count": 73,
   "metadata": {},
   "outputs": [],
   "source": [
    "def grad(x):\n",
    "    x1 = x[0]\n",
    "    x2 = x[1]\n",
    "    return np.array([x1, 10*x2])"
   ]
  },
  {
   "cell_type": "markdown",
   "metadata": {},
   "source": [
    "### Gradijentni spust"
   ]
  },
  {
   "cell_type": "markdown",
   "metadata": {},
   "source": [
    "$x_0$ proizvoljno odabrana tacka\n",
    "<br>\n",
    "$x_{k+1} = x_k - \\alpha\\nabla f(x_k)$ za $k=0,1,...$,  "
   ]
  },
  {
   "cell_type": "code",
   "execution_count": 74,
   "metadata": {},
   "outputs": [],
   "source": [
    "def gradient_descent(f, grad, x, alpha, eps, max_iterations):\n",
    "    result = {}\n",
    "    \n",
    "    x_old = x \n",
    "    for i in range(max_iterations):\n",
    "        x_new = x_old - alpha*grad(x_old)\n",
    "        if np.abs(f(x_new)-f(x_old))<eps:\n",
    "            break;\n",
    "        x_old = x_new\n",
    "    \n",
    "    result['converge'] = i != max_iterations-1\n",
    "    result['number_of_iterations'] = i\n",
    "    result['x_min'] = x_old\n",
    "    \n",
    "    return result"
   ]
  },
  {
   "cell_type": "code",
   "execution_count": 75,
   "metadata": {},
   "outputs": [],
   "source": [
    "x0 = (3, 5)\n",
    "alpha = 0.1 \n",
    "eps = 0.01 \n",
    "max_iterations = 1000"
   ]
  },
  {
   "cell_type": "code",
   "execution_count": 76,
   "metadata": {},
   "outputs": [],
   "source": [
    "gd_result = gradient_descent(f, grad, x0, alpha, eps, max_iterations)"
   ]
  },
  {
   "cell_type": "code",
   "execution_count": 77,
   "metadata": {},
   "outputs": [
    {
     "data": {
      "text/plain": [
       "{'converge': True,\n",
       " 'number_of_iterations': 22,\n",
       " 'x_min': array([0.29543127, 0.        ])}"
      ]
     },
     "execution_count": 77,
     "metadata": {},
     "output_type": "execute_result"
    }
   ],
   "source": [
    "gd_result"
   ]
  },
  {
   "cell_type": "markdown",
   "metadata": {},
   "source": [
    "### ADAM (Adaptive moment estimation)\n",
    "<br>\n",
    "Referentni rad: https://arxiv.org/pdf/1412.6980.pdf"
   ]
  },
  {
   "cell_type": "markdown",
   "metadata": {},
   "source": [
    "Inicijalizacija: $k=0$, $m_0 =0$, $v_0 = 0$\n",
    "<br> <br> \n",
    "$m_{k+1} = \\beta_1 m_{k} + (1-\\beta_1)\\nabla f(x_k)$\n",
    "<br> <br>\n",
    "$v_{k+1} = \\beta_2 v_{k} + (1-\\beta_2)\\nabla f(x_k)^2$\n",
    "<br> <br>"
   ]
  },
  {
   "cell_type": "markdown",
   "metadata": {},
   "source": [
    "$\\hat{m_{k+1}} = \\frac{m_{k+1}}{1-{\\beta_1}^{k+1}}$\n",
    "<br> <br>\n",
    "$\\hat{v_{k+1}} = \\frac{v_{k+1}}{1-{\\beta_2}^{k+1}}$\n",
    "<br> <br>\n",
    "$x_{k+1} = x_{k} - \\alpha \\frac{\\hat{m_{k+1}}}{\\sqrt{\\hat{v_{k+1}}} + eps}$\n",
    "<br>"
   ]
  },
  {
   "cell_type": "code",
   "execution_count": 78,
   "metadata": {},
   "outputs": [],
   "source": [
    "def adam(f, grad, x0, alpha, beta1, beta2, eps, max_iterations, precision):\n",
    "    result = {}\n",
    "    m = 0\n",
    "    v = 0\n",
    "    \n",
    "    x_old = x0\n",
    "    for k in range(1, max_iterations + 1):\n",
    "        m = beta1 * m + (1 - beta1) * grad(x_old)\n",
    "        v = beta2 * v + (1 - beta2) * (grad(x_old) * grad(x_old))\n",
    "        \n",
    "        m_hat = m / (1 - beta1 ** k)\n",
    "        v_hat = v / (1 - beta2 ** k)\n",
    "        \n",
    "        x_new = x_old - (alpha * m_hat) / (np.sqrt(v_hat) + eps)\n",
    "        if np.abs(f(x_new) - f(x_old)) < precision:\n",
    "            break;\n",
    "        x_old = x_new\n",
    "    \n",
    "    result['converge'] = k != max_iterations\n",
    "    result['number_of_iterations'] = k\n",
    "    result['x_min'] = x_old\n",
    "    \n",
    "    return result"
   ]
  },
  {
   "cell_type": "markdown",
   "metadata": {},
   "source": [
    "Predlozene vrednosti: $\\alpha = 1$, $\\beta_1=0.9$, $\\beta_2 = 0.999$, $eps = 1e-8$\n",
    "<br>\n",
    "Zaustavni kriterijum: kada je rastojanje izmedju $x_{k+1}$ i $x_{k}$ dovoljno malo (precision = 0.001)"
   ]
  },
  {
   "cell_type": "code",
   "execution_count": 79,
   "metadata": {},
   "outputs": [],
   "source": [
    "alpha = 1\n",
    "beta1 = 0.9\n",
    "beta2 = 0.999\n",
    "eps = 1e-8"
   ]
  },
  {
   "cell_type": "code",
   "execution_count": 80,
   "metadata": {},
   "outputs": [],
   "source": [
    "a_result = adam(f, grad, x0, alpha, beta1, beta2, eps, max_iterations, 0.001)"
   ]
  },
  {
   "cell_type": "code",
   "execution_count": 81,
   "metadata": {},
   "outputs": [
    {
     "data": {
      "text/plain": [
       "{'converge': True,\n",
       " 'number_of_iterations': 76,\n",
       " 'x_min': array([-0.02340247,  0.01529523])}"
      ]
     },
     "execution_count": 81,
     "metadata": {},
     "output_type": "execute_result"
    }
   ],
   "source": [
    "a_result"
   ]
  },
  {
   "cell_type": "code",
   "execution_count": 82,
   "metadata": {},
   "outputs": [
    {
     "name": "stdout",
     "output_type": "stream",
     "text": [
      "[1 4]\n",
      "5.000000000000001\n"
     ]
    }
   ],
   "source": [
    "x = np.array([1, 2])\n",
    "print(x*x)\n",
    "print(np.linalg.norm(x)**2)"
   ]
  },
  {
   "cell_type": "code",
   "execution_count": 83,
   "metadata": {},
   "outputs": [
    {
     "name": "stdout",
     "output_type": "stream",
     "text": [
      "{'converge': True, 'number_of_iterations': 22, 'x_min': array([0.29543127, 0.        ])}\n",
      "{'converge': True, 'number_of_iterations': 76, 'x_min': array([-0.02340247,  0.01529523])}\n"
     ]
    }
   ],
   "source": [
    "print(gd_result)\n",
    "print(a_result)\n",
    "\n",
    "gd_x = gd_result['x_min']\n",
    "a_x = a_result['x_min']"
   ]
  },
  {
   "cell_type": "markdown",
   "metadata": {},
   "source": [
    "Nacrtajte grafik na kojem su vizualizovana pronadjena resenja za vektor x,\n",
    "odnosno na x osi je vrednost $x_1$, na y osi je vrednost $x_2$, a dva dobijena\n",
    "vektora (primenom razlicitih algoritama optimizacije) su oznacena razlicitim bojama\n",
    "i prikazana u legendi."
   ]
  },
  {
   "cell_type": "code",
   "execution_count": 84,
   "metadata": {},
   "outputs": [],
   "source": [
    "import matplotlib.pyplot as plt\n",
    "%matplotlib inline"
   ]
  },
  {
   "cell_type": "code",
   "execution_count": 85,
   "metadata": {},
   "outputs": [
    {
     "data": {
      "text/plain": [
       "<matplotlib.legend.Legend at 0x7fae166a0ad0>"
      ]
     },
     "execution_count": 85,
     "metadata": {},
     "output_type": "execute_result"
    },
    {
     "data": {
      "image/png": "[encoded data removed]",
      "text/plain": [
       "<Figure size 432x288 with 1 Axes>"
      ]
     },
     "metadata": {
      "needs_background": "light"
     },
     "output_type": "display_data"
    }
   ],
   "source": [
    "plt.scatter(gd_x[0], gd_x[1])\n",
    "plt.scatter(a_x[0], a_x[1])\n",
    "plt.xlabel('$x_1$')\n",
    "plt.ylabel('$x_2$')\n",
    "plt.legend(['Gradient descent', 'Adam'])"
   ]
  }
 ],
 "metadata": {
  "kernelspec": {
   "display_name": "Python 3",
   "language": "python",
   "name": "python3"
  },
  "language_info": {
   "codemirror_mode": {
    "name": "ipython",
    "version": 3
   },
   "file_extension": ".py",
   "mimetype": "text/x-python",
   "name": "python",
   "nbconvert_exporter": "python",
   "pygments_lexer": "ipython3",
   "version": "3.7.5"
  }
 },
 "nbformat": 4,
 "nbformat_minor": 2
}
