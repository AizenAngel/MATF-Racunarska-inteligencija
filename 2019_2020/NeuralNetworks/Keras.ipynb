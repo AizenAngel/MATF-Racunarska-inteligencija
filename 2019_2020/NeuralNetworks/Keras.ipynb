{
 "cells": [
  {
   "cell_type": "code",
   "execution_count": 3,
   "metadata": {},
   "outputs": [
    {
     "name": "stdout",
     "output_type": "stream",
     "text": [
      ".. _breast_cancer_dataset:\n",
      "\n",
      "Breast cancer wisconsin (diagnostic) dataset\n",
      "--------------------------------------------\n",
      "\n",
      "**Data Set Characteristics:**\n",
      "\n",
      "    :Number of Instances: 569\n",
      "\n",
      "    :Number of Attributes: 30 numeric, predictive attributes and the class\n",
      "\n",
      "    :Attribute Information:\n",
      "        - radius (mean of distances from center to points on the perimeter)\n",
      "        - texture (standard deviation of gray-scale values)\n",
      "        - perimeter\n",
      "        - area\n",
      "        - smoothness (local variation in radius lengths)\n",
      "        - compactness (perimeter^2 / area - 1.0)\n",
      "        - concavity (severity of concave portions of the contour)\n",
      "        - concave points (number of concave portions of the contour)\n",
      "        - symmetry \n",
      "        - fractal dimension (\"coastline approximation\" - 1)\n",
      "\n",
      "        The mean, standard error, and \"worst\" or largest (mean of the three\n",
      "        largest values) of these features were computed for each image,\n",
      "        resulting in 30 features.  For instance, field 3 is Mean Radius, field\n",
      "        13 is Radius SE, field 23 is Worst Radius.\n",
      "\n",
      "        - class:\n",
      "                - WDBC-Malignant\n",
      "                - WDBC-Benign\n",
      "\n",
      "    :Summary Statistics:\n",
      "\n",
      "    ===================================== ====== ======\n",
      "                                           Min    Max\n",
      "    ===================================== ====== ======\n",
      "    radius (mean):                        6.981  28.11\n",
      "    texture (mean):                       9.71   39.28\n",
      "    perimeter (mean):                     43.79  188.5\n",
      "    area (mean):                          143.5  2501.0\n",
      "    smoothness (mean):                    0.053  0.163\n",
      "    compactness (mean):                   0.019  0.345\n",
      "    concavity (mean):                     0.0    0.427\n",
      "    concave points (mean):                0.0    0.201\n",
      "    symmetry (mean):                      0.106  0.304\n",
      "    fractal dimension (mean):             0.05   0.097\n",
      "    radius (standard error):              0.112  2.873\n",
      "    texture (standard error):             0.36   4.885\n",
      "    perimeter (standard error):           0.757  21.98\n",
      "    area (standard error):                6.802  542.2\n",
      "    smoothness (standard error):          0.002  0.031\n",
      "    compactness (standard error):         0.002  0.135\n",
      "    concavity (standard error):           0.0    0.396\n",
      "    concave points (standard error):      0.0    0.053\n",
      "    symmetry (standard error):            0.008  0.079\n",
      "    fractal dimension (standard error):   0.001  0.03\n",
      "    radius (worst):                       7.93   36.04\n",
      "    texture (worst):                      12.02  49.54\n",
      "    perimeter (worst):                    50.41  251.2\n",
      "    area (worst):                         185.2  4254.0\n",
      "    smoothness (worst):                   0.071  0.223\n",
      "    compactness (worst):                  0.027  1.058\n",
      "    concavity (worst):                    0.0    1.252\n",
      "    concave points (worst):               0.0    0.291\n",
      "    symmetry (worst):                     0.156  0.664\n",
      "    fractal dimension (worst):            0.055  0.208\n",
      "    ===================================== ====== ======\n",
      "\n",
      "    :Missing Attribute Values: None\n",
      "\n",
      "    :Class Distribution: 212 - Malignant, 357 - Benign\n",
      "\n",
      "    :Creator:  Dr. William H. Wolberg, W. Nick Street, Olvi L. Mangasarian\n",
      "\n",
      "    :Donor: Nick Street\n",
      "\n",
      "    :Date: November, 1995\n",
      "\n",
      "This is a copy of UCI ML Breast Cancer Wisconsin (Diagnostic) datasets.\n",
      "https://goo.gl/U2Uwz2\n",
      "\n",
      "Features are computed from a digitized image of a fine needle\n",
      "aspirate (FNA) of a breast mass.  They describe\n",
      "characteristics of the cell nuclei present in the image.\n",
      "\n",
      "Separating plane described above was obtained using\n",
      "Multisurface Method-Tree (MSM-T) [K. P. Bennett, \"Decision Tree\n",
      "Construction Via Linear Programming.\" Proceedings of the 4th\n",
      "Midwest Artificial Intelligence and Cognitive Science Society,\n",
      "pp. 97-101, 1992], a classification method which uses linear\n",
      "programming to construct a decision tree.  Relevant features\n",
      "were selected using an exhaustive search in the space of 1-4\n",
      "features and 1-3 separating planes.\n",
      "\n",
      "The actual linear program used to obtain the separating plane\n",
      "in the 3-dimensional space is that described in:\n",
      "[K. P. Bennett and O. L. Mangasarian: \"Robust Linear\n",
      "Programming Discrimination of Two Linearly Inseparable Sets\",\n",
      "Optimization Methods and Software 1, 1992, 23-34].\n",
      "\n",
      "This database is also available through the UW CS ftp server:\n",
      "\n",
      "ftp ftp.cs.wisc.edu\n",
      "cd math-prog/cpo-dataset/machine-learn/WDBC/\n",
      "\n",
      ".. topic:: References\n",
      "\n",
      "   - W.N. Street, W.H. Wolberg and O.L. Mangasarian. Nuclear feature extraction \n",
      "     for breast tumor diagnosis. IS&T/SPIE 1993 International Symposium on \n",
      "     Electronic Imaging: Science and Technology, volume 1905, pages 861-870,\n",
      "     San Jose, CA, 1993.\n",
      "   - O.L. Mangasarian, W.N. Street and W.H. Wolberg. Breast cancer diagnosis and \n",
      "     prognosis via linear programming. Operations Research, 43(4), pages 570-577, \n",
      "     July-August 1995.\n",
      "   - W.H. Wolberg, W.N. Street, and O.L. Mangasarian. Machine learning techniques\n",
      "     to diagnose breast cancer from fine-needle aspirates. Cancer Letters 77 (1994) \n",
      "     163-171.\n"
     ]
    }
   ],
   "source": [
    "from keras.models import Sequential                                                                \n",
    "from keras.layers import Dense                                                                     \n",
    "from keras import losses, optimizers                                                               \n",
    "import numpy as np                                                                                 \n",
    "from sklearn import datasets                                                                       \n",
    "\n",
    "data = datasets.load_breast_cancer()                                                           \n",
    "                                                                                                       \n",
    "print(data.DESCR)"
   ]
  },
  {
   "cell_type": "code",
   "execution_count": 6,
   "metadata": {},
   "outputs": [],
   "source": [
    "from sklearn import preprocessing\n",
    "from sklearn import model_selection"
   ]
  },
  {
   "cell_type": "code",
   "execution_count": 7,
   "metadata": {},
   "outputs": [],
   "source": [
    "x_train, x_test, y_train, y_test = model_selection.train_test_split(data.data, data.target, test_size=0.33)"
   ]
  },
  {
   "cell_type": "code",
   "execution_count": 8,
   "metadata": {},
   "outputs": [],
   "source": [
    "scaler = preprocessing.StandardScaler()\n",
    "scaler.fit(x_train)\n",
    "x_train = scaler.transform(x_train)\n",
    "x_test = scaler.transform(x_test)"
   ]
  },
  {
   "cell_type": "code",
   "execution_count": 11,
   "metadata": {},
   "outputs": [],
   "source": [
    "model = Sequential()\n",
    "model.add(Dense(units=100, input_dim=x_train.shape[1], activation='relu'))\n",
    "model.add(Dense(units=40, activation='relu'))\n",
    "model.add(Dense(units=1, activation='sigmoid'))"
   ]
  },
  {
   "cell_type": "code",
   "execution_count": 12,
   "metadata": {},
   "outputs": [
    {
     "name": "stdout",
     "output_type": "stream",
     "text": [
      "WARNING:tensorflow:From /home/denis/miniconda3/envs/ml/lib/python3.7/site-packages/keras/optimizers.py:790: The name tf.train.Optimizer is deprecated. Please use tf.compat.v1.train.Optimizer instead.\n",
      "\n",
      "WARNING:tensorflow:From /home/denis/miniconda3/envs/ml/lib/python3.7/site-packages/keras/backend/tensorflow_backend.py:3376: The name tf.log is deprecated. Please use tf.math.log instead.\n",
      "\n",
      "WARNING:tensorflow:From /home/denis/miniconda3/envs/ml/lib/python3.7/site-packages/tensorflow_core/python/ops/nn_impl.py:183: where (from tensorflow.python.ops.array_ops) is deprecated and will be removed in a future version.\n",
      "Instructions for updating:\n",
      "Use tf.where in 2.0, which has the same broadcast rule as np.where\n"
     ]
    }
   ],
   "source": [
    "model.compile(optimizer='adam', loss=losses.binary_crossentropy, metrics=['accuracy'])"
   ]
  },
  {
   "cell_type": "code",
   "execution_count": 13,
   "metadata": {},
   "outputs": [
    {
     "name": "stdout",
     "output_type": "stream",
     "text": [
      "_________________________________________________________________\n",
      "Layer (type)                 Output Shape              Param #   \n",
      "=================================================================\n",
      "dense_5 (Dense)              (None, 100)               3100      \n",
      "_________________________________________________________________\n",
      "dense_6 (Dense)              (None, 40)                4040      \n",
      "_________________________________________________________________\n",
      "dense_7 (Dense)              (None, 1)                 41        \n",
      "=================================================================\n",
      "Total params: 7,181\n",
      "Trainable params: 7,181\n",
      "Non-trainable params: 0\n",
      "_________________________________________________________________\n"
     ]
    }
   ],
   "source": [
    "model.summary()"
   ]
  },
  {
   "cell_type": "code",
   "execution_count": 14,
   "metadata": {},
   "outputs": [
    {
     "name": "stdout",
     "output_type": "stream",
     "text": [
      "WARNING:tensorflow:From /home/denis/miniconda3/envs/ml/lib/python3.7/site-packages/keras/backend/tensorflow_backend.py:986: The name tf.assign_add is deprecated. Please use tf.compat.v1.assign_add instead.\n",
      "\n",
      "WARNING:tensorflow:From /home/denis/miniconda3/envs/ml/lib/python3.7/site-packages/keras/backend/tensorflow_backend.py:973: The name tf.assign is deprecated. Please use tf.compat.v1.assign instead.\n",
      "\n",
      "WARNING:tensorflow:From /home/denis/miniconda3/envs/ml/lib/python3.7/site-packages/keras/backend/tensorflow_backend.py:2741: The name tf.Session is deprecated. Please use tf.compat.v1.Session instead.\n",
      "\n",
      "Train on 266 samples, validate on 115 samples\n",
      "Epoch 1/30\n",
      "WARNING:tensorflow:From /home/denis/miniconda3/envs/ml/lib/python3.7/site-packages/keras/backend/tensorflow_backend.py:174: The name tf.get_default_session is deprecated. Please use tf.compat.v1.get_default_session instead.\n",
      "\n",
      "WARNING:tensorflow:From /home/denis/miniconda3/envs/ml/lib/python3.7/site-packages/keras/backend/tensorflow_backend.py:181: The name tf.ConfigProto is deprecated. Please use tf.compat.v1.ConfigProto instead.\n",
      "\n",
      "WARNING:tensorflow:From /home/denis/miniconda3/envs/ml/lib/python3.7/site-packages/keras/backend/tensorflow_backend.py:190: The name tf.global_variables is deprecated. Please use tf.compat.v1.global_variables instead.\n",
      "\n",
      "WARNING:tensorflow:From /home/denis/miniconda3/envs/ml/lib/python3.7/site-packages/keras/backend/tensorflow_backend.py:199: The name tf.is_variable_initialized is deprecated. Please use tf.compat.v1.is_variable_initialized instead.\n",
      "\n",
      "WARNING:tensorflow:From /home/denis/miniconda3/envs/ml/lib/python3.7/site-packages/keras/backend/tensorflow_backend.py:206: The name tf.variables_initializer is deprecated. Please use tf.compat.v1.variables_initializer instead.\n",
      "\n",
      "266/266 [==============================] - 7s 25ms/step - loss: 0.5272 - acc: 0.7293 - val_loss: 0.3314 - val_acc: 0.9304\n",
      "Epoch 2/30\n",
      "266/266 [==============================] - 0s 640us/step - loss: 0.2564 - acc: 0.9474 - val_loss: 0.2023 - val_acc: 0.9391\n",
      "Epoch 3/30\n",
      "266/266 [==============================] - 0s 530us/step - loss: 0.1557 - acc: 0.9549 - val_loss: 0.1510 - val_acc: 0.9565\n",
      "Epoch 4/30\n",
      "266/266 [==============================] - 0s 637us/step - loss: 0.1121 - acc: 0.9737 - val_loss: 0.1237 - val_acc: 0.9652\n",
      "Epoch 5/30\n",
      "266/266 [==============================] - 0s 597us/step - loss: 0.0886 - acc: 0.9850 - val_loss: 0.1102 - val_acc: 0.9652\n",
      "Epoch 6/30\n",
      "266/266 [==============================] - 0s 629us/step - loss: 0.0744 - acc: 0.9850 - val_loss: 0.1001 - val_acc: 0.9739\n",
      "Epoch 7/30\n",
      "266/266 [==============================] - 0s 777us/step - loss: 0.0642 - acc: 0.9887 - val_loss: 0.0967 - val_acc: 0.9652\n",
      "Epoch 8/30\n",
      "266/266 [==============================] - 0s 822us/step - loss: 0.0565 - acc: 0.9925 - val_loss: 0.0950 - val_acc: 0.9652\n",
      "Epoch 9/30\n",
      "266/266 [==============================] - 0s 835us/step - loss: 0.0507 - acc: 0.9925 - val_loss: 0.0930 - val_acc: 0.9652\n",
      "Epoch 10/30\n",
      "266/266 [==============================] - 0s 604us/step - loss: 0.0447 - acc: 0.9925 - val_loss: 0.0898 - val_acc: 0.9652\n",
      "Epoch 11/30\n",
      "266/266 [==============================] - 0s 635us/step - loss: 0.0402 - acc: 0.9925 - val_loss: 0.0893 - val_acc: 0.9652\n",
      "Epoch 12/30\n",
      "266/266 [==============================] - 0s 620us/step - loss: 0.0369 - acc: 0.9925 - val_loss: 0.0885 - val_acc: 0.9652\n",
      "Epoch 13/30\n",
      "266/266 [==============================] - 0s 611us/step - loss: 0.0330 - acc: 0.9925 - val_loss: 0.0920 - val_acc: 0.9565\n",
      "Epoch 14/30\n",
      "266/266 [==============================] - 0s 631us/step - loss: 0.0312 - acc: 0.9925 - val_loss: 0.0882 - val_acc: 0.9652\n",
      "Epoch 15/30\n",
      "266/266 [==============================] - 0s 598us/step - loss: 0.0266 - acc: 0.9925 - val_loss: 0.0915 - val_acc: 0.9652\n",
      "Epoch 16/30\n",
      "266/266 [==============================] - 0s 582us/step - loss: 0.0227 - acc: 0.9925 - val_loss: 0.0915 - val_acc: 0.9652\n",
      "Epoch 17/30\n",
      "266/266 [==============================] - 0s 657us/step - loss: 0.0203 - acc: 0.9962 - val_loss: 0.0930 - val_acc: 0.9652\n",
      "Epoch 18/30\n",
      "266/266 [==============================] - 0s 623us/step - loss: 0.0182 - acc: 0.9925 - val_loss: 0.0954 - val_acc: 0.9652\n",
      "Epoch 19/30\n",
      "266/266 [==============================] - 0s 576us/step - loss: 0.0156 - acc: 0.9962 - val_loss: 0.0949 - val_acc: 0.9652\n",
      "Epoch 20/30\n",
      "266/266 [==============================] - 0s 650us/step - loss: 0.0143 - acc: 0.9962 - val_loss: 0.0979 - val_acc: 0.9652\n",
      "Epoch 21/30\n",
      "266/266 [==============================] - 0s 556us/step - loss: 0.0124 - acc: 0.9962 - val_loss: 0.0994 - val_acc: 0.9652\n",
      "Epoch 22/30\n",
      "266/266 [==============================] - 0s 622us/step - loss: 0.0112 - acc: 1.0000 - val_loss: 0.1017 - val_acc: 0.9652\n",
      "Epoch 23/30\n",
      "266/266 [==============================] - 0s 736us/step - loss: 0.0096 - acc: 1.0000 - val_loss: 0.1027 - val_acc: 0.9652\n",
      "Epoch 24/30\n",
      "266/266 [==============================] - 0s 719us/step - loss: 0.0090 - acc: 1.0000 - val_loss: 0.1043 - val_acc: 0.9652\n",
      "Epoch 25/30\n",
      "266/266 [==============================] - 0s 651us/step - loss: 0.0083 - acc: 1.0000 - val_loss: 0.1067 - val_acc: 0.9652\n",
      "Epoch 26/30\n",
      "266/266 [==============================] - 0s 567us/step - loss: 0.0073 - acc: 1.0000 - val_loss: 0.1079 - val_acc: 0.9652\n",
      "Epoch 27/30\n",
      "266/266 [==============================] - 0s 541us/step - loss: 0.0067 - acc: 1.0000 - val_loss: 0.1102 - val_acc: 0.9652\n",
      "Epoch 28/30\n",
      "266/266 [==============================] - 0s 501us/step - loss: 0.0060 - acc: 1.0000 - val_loss: 0.1118 - val_acc: 0.9652\n",
      "Epoch 29/30\n",
      "266/266 [==============================] - 0s 434us/step - loss: 0.0057 - acc: 1.0000 - val_loss: 0.1129 - val_acc: 0.9652\n",
      "Epoch 30/30\n",
      "266/266 [==============================] - 0s 615us/step - loss: 0.0051 - acc: 1.0000 - val_loss: 0.1147 - val_acc: 0.9652\n"
     ]
    }
   ],
   "source": [
    "history = model.fit(x_train, y_train, epochs=30, batch_size=16, verbose=1, validation_split=0.3)"
   ]
  },
  {
   "cell_type": "code",
   "execution_count": 15,
   "metadata": {},
   "outputs": [],
   "source": [
    "from matplotlib import pyplot as plt"
   ]
  },
  {
   "cell_type": "code",
   "execution_count": 17,
   "metadata": {},
   "outputs": [],
   "source": [
    "epochs = history.epoch\n",
    "loss = history.history['loss']\n",
    "validation_loss = history.history['val_loss']\n",
    "acc = history.history['acc']\n",
    "val_acc = history.history['val_acc']"
   ]
  },
  {
   "cell_type": "code",
   "execution_count": 19,
   "metadata": {},
   "outputs": [
    {
     "data": {
      "text/plain": [
       "[<matplotlib.lines.Line2D at 0x7f289ff0cf50>]"
      ]
     },
     "execution_count": 19,
     "metadata": {},
     "output_type": "execute_result"
    },
    {
     "data": {
      "image/png": "[encoded data removed]",
      "text/plain": [
       "<Figure size 432x288 with 1 Axes>"
      ]
     },
     "metadata": {
      "needs_background": "light"
     },
     "output_type": "display_data"
    }
   ],
   "source": [
    "plt.xlabel('epochs')\n",
    "plt.ylabel('loss')\n",
    "plt.plot(epochs, loss, c='red', label='training')\n",
    "plt.plot(epochs, validation_loss, c='orange', label='validation')"
   ]
  },
  {
   "cell_type": "code",
   "execution_count": 21,
   "metadata": {},
   "outputs": [
    {
     "data": {
      "text/plain": [
       "[<matplotlib.lines.Line2D at 0x7f289efdcf90>]"
      ]
     },
     "execution_count": 21,
     "metadata": {},
     "output_type": "execute_result"
    },
    {
     "data": {
      "image/png": "[encoded data removed]",
      "text/plain": [
       "<Figure size 432x288 with 1 Axes>"
      ]
     },
     "metadata": {
      "needs_background": "light"
     },
     "output_type": "display_data"
    }
   ],
   "source": [
    "plt.xlabel('epochs')\n",
    "plt.ylabel('acc')\n",
    "plt.plot(epochs, acc, c='red', label='training')\n",
    "plt.plot(epochs, val_acc, c='orange', label='validation')"
   ]
  },
  {
   "cell_type": "code",
   "execution_count": 22,
   "metadata": {},
   "outputs": [
    {
     "name": "stdout",
     "output_type": "stream",
     "text": [
      "188/188 [==============================] - 0s 492us/step\n"
     ]
    }
   ],
   "source": [
    "test_loss, test_acc = model.evaluate(x_test, y_test)"
   ]
  },
  {
   "cell_type": "code",
   "execution_count": 23,
   "metadata": {},
   "outputs": [
    {
     "name": "stdout",
     "output_type": "stream",
     "text": [
      "0.03983803156842577\n"
     ]
    }
   ],
   "source": [
    "print(test_loss)"
   ]
  },
  {
   "cell_type": "code",
   "execution_count": 24,
   "metadata": {},
   "outputs": [
    {
     "name": "stdout",
     "output_type": "stream",
     "text": [
      "0.9893617046640274\n"
     ]
    }
   ],
   "source": [
    "print(test_acc)"
   ]
  },
  {
   "cell_type": "code",
   "execution_count": 25,
   "metadata": {},
   "outputs": [],
   "source": [
    "from keras.datasets import mnist"
   ]
  },
  {
   "cell_type": "code",
   "execution_count": 26,
   "metadata": {},
   "outputs": [],
   "source": [
    "from keras.layers import Dropout, Flatten"
   ]
  },
  {
   "cell_type": "code",
   "execution_count": 27,
   "metadata": {},
   "outputs": [],
   "source": [
    "from keras.layers import Conv2D, MaxPooling2D\n",
    "from keras import backend as K"
   ]
  },
  {
   "cell_type": "code",
   "execution_count": 28,
   "metadata": {},
   "outputs": [],
   "source": [
    "batch_size = 128\n",
    "epochs = 12"
   ]
  },
  {
   "cell_type": "code",
   "execution_count": 71,
   "metadata": {},
   "outputs": [],
   "source": [
    "(x_train, y_train), (x_test, y_test) = mnist.load_data()"
   ]
  },
  {
   "cell_type": "code",
   "execution_count": 72,
   "metadata": {},
   "outputs": [
    {
     "data": {
      "text/plain": [
       "<matplotlib.image.AxesImage at 0x7f289c131110>"
      ]
     },
     "execution_count": 72,
     "metadata": {},
     "output_type": "execute_result"
    },
    {
     "data": {
      "image/png": "[encoded data removed]",
      "text/plain": [
       "<Figure size 432x288 with 1 Axes>"
      ]
     },
     "metadata": {
      "needs_background": "light"
     },
     "output_type": "display_data"
    }
   ],
   "source": [
    "plt.imshow(x_train[1], cmap='gray')"
   ]
  },
  {
   "cell_type": "code",
   "execution_count": 73,
   "metadata": {},
   "outputs": [],
   "source": [
    "x_train = x_train[0:1000]\n",
    "y_train = y_train[0:1000]\n",
    "img_rows = x_train.shape[1]\n",
    "img_cols = x_train.shape[2]\n",
    "x_train = x_train.reshape(x_train.shape[0], img_rows, img_cols, 1)\n",
    "x_test = x_test.reshape(x_test.shape[0], img_rows, img_cols, 1)\n",
    "input_shape =(img_rows, img_cols, 1)"
   ]
  },
  {
   "cell_type": "code",
   "execution_count": 74,
   "metadata": {},
   "outputs": [],
   "source": [
    "x_train = x_train.astype('float32')\n",
    "x_test = x_test.astype('float32')\n",
    "x_train /= 255\n",
    "x_test /= 255"
   ]
  },
  {
   "cell_type": "code",
   "execution_count": 75,
   "metadata": {},
   "outputs": [],
   "source": [
    "import keras"
   ]
  },
  {
   "cell_type": "code",
   "execution_count": 76,
   "metadata": {},
   "outputs": [],
   "source": [
    "num_classes = 10\n",
    "y_train = keras.utils.to_categorical(y_train, num_classes)\n",
    "y_test = keras.utils.to_categorical(y_test, num_classes)"
   ]
  },
  {
   "cell_type": "code",
   "execution_count": 77,
   "metadata": {},
   "outputs": [],
   "source": [
    "model = Sequential()\n",
    "model.add(Conv2D(32, kernel_size=(3, 3), activation='relu',input_shape=input_shape))\n",
    "model.add(Conv2D(64, kernel_size= (3,3), activation='relu'))\n",
    "model.add(MaxPooling2D(pool_size=(2,2)))\n",
    "model.add(Flatten())\n",
    "model.add(Dense(128, activation='relu'))\n",
    "model.add(Dense(num_classes, activation='softmax'))"
   ]
  },
  {
   "cell_type": "code",
   "execution_count": 78,
   "metadata": {},
   "outputs": [],
   "source": [
    "model.compile(loss=keras.losses.categorical_crossentropy, optimizer='adam', metrics=['accuracy'])"
   ]
  },
  {
   "cell_type": "code",
   "execution_count": 79,
   "metadata": {},
   "outputs": [
    {
     "name": "stdout",
     "output_type": "stream",
     "text": [
      "Train on 1000 samples, validate on 10000 samples\n",
      "Epoch 1/12\n",
      "1000/1000 [==============================] - 31s 31ms/step - loss: 1.0626 - acc: 0.6600 - val_loss: 0.5049 - val_acc: 0.8379\n",
      "Epoch 2/12\n",
      "1000/1000 [==============================] - 25s 25ms/step - loss: 0.3631 - acc: 0.8830 - val_loss: 0.4053 - val_acc: 0.8738\n",
      "Epoch 3/12\n",
      "1000/1000 [==============================] - 25s 25ms/step - loss: 0.2096 - acc: 0.9390 - val_loss: 0.3354 - val_acc: 0.8988\n",
      "Epoch 4/12\n",
      "1000/1000 [==============================] - 25s 25ms/step - loss: 0.1142 - acc: 0.9700 - val_loss: 0.3310 - val_acc: 0.8965\n",
      "Epoch 5/12\n",
      "1000/1000 [==============================] - 25s 25ms/step - loss: 0.0782 - acc: 0.9750 - val_loss: 0.2716 - val_acc: 0.9182\n",
      "Epoch 6/12\n",
      "1000/1000 [==============================] - 25s 25ms/step - loss: 0.0241 - acc: 0.9940 - val_loss: 0.2902 - val_acc: 0.9240\n",
      "Epoch 7/12\n",
      "1000/1000 [==============================] - 26s 26ms/step - loss: 0.0082 - acc: 1.0000 - val_loss: 0.3192 - val_acc: 0.9184\n",
      "Epoch 8/12\n",
      "1000/1000 [==============================] - 26s 26ms/step - loss: 0.0047 - acc: 0.9990 - val_loss: 0.3324 - val_acc: 0.9214\n",
      "Epoch 9/12\n",
      "1000/1000 [==============================] - 25s 25ms/step - loss: 0.0051 - acc: 0.9990 - val_loss: 0.3283 - val_acc: 0.9249\n",
      "Epoch 10/12\n",
      "1000/1000 [==============================] - 25s 25ms/step - loss: 0.0016 - acc: 1.0000 - val_loss: 0.3442 - val_acc: 0.9245\n",
      "Epoch 11/12\n",
      "1000/1000 [==============================] - 25s 25ms/step - loss: 8.8199e-04 - acc: 1.0000 - val_loss: 0.3537 - val_acc: 0.9247\n",
      "Epoch 12/12\n",
      "1000/1000 [==============================] - 26s 26ms/step - loss: 5.8460e-04 - acc: 1.0000 - val_loss: 0.3641 - val_acc: 0.9248\n"
     ]
    },
    {
     "data": {
      "text/plain": [
       "<keras.callbacks.History at 0x7f289319f9d0>"
      ]
     },
     "execution_count": 79,
     "metadata": {},
     "output_type": "execute_result"
    }
   ],
   "source": [
    "model.fit(x_train, y_train, epochs=epochs, verbose=1, validation_data=(x_test, y_test))"
   ]
  },
  {
   "cell_type": "code",
   "execution_count": 80,
   "metadata": {},
   "outputs": [
    {
     "name": "stdout",
     "output_type": "stream",
     "text": [
      "Test loss: 0.3640982189257513\n",
      "Test acc: 0.9248\n"
     ]
    }
   ],
   "source": [
    "score = model.evaluate(x_test, y_test, verbose=0)\n",
    "print(\"Test loss:\", score[0])\n",
    "print(\"Test acc:\", score[1])"
   ]
  },
  {
   "cell_type": "code",
   "execution_count": 91,
   "metadata": {},
   "outputs": [
    {
     "data": {
      "text/plain": [
       "<matplotlib.image.AxesImage at 0x7f2869bb12d0>"
      ]
     },
     "execution_count": 91,
     "metadata": {},
     "output_type": "execute_result"
    },
    {
     "data": {
      "image/png": "[encoded data removed]",
      "text/plain": [
       "<Figure size 432x288 with 1 Axes>"
      ]
     },
     "metadata": {
      "needs_background": "light"
     },
     "output_type": "display_data"
    }
   ],
   "source": [
    "plt.imshow(x_test[23].reshape(28,28), cmap='gray')"
   ]
  },
  {
   "cell_type": "code",
   "execution_count": 92,
   "metadata": {},
   "outputs": [
    {
     "name": "stdout",
     "output_type": "stream",
     "text": [
      "[5]\n"
     ]
    }
   ],
   "source": [
    "print(model.predict_classes(x_test[23].reshape(1,28,28,1)))"
   ]
  },
  {
   "cell_type": "code",
   "execution_count": 93,
   "metadata": {},
   "outputs": [
    {
     "name": "stdout",
     "output_type": "stream",
     "text": [
      "[[3.1967440e-10 1.2566474e-13 9.9705704e-13 2.0226862e-08 5.5474630e-10\n",
      "  9.9999988e-01 4.5431967e-11 2.3324640e-16 1.7131030e-07 7.0258651e-12]]\n"
     ]
    }
   ],
   "source": [
    "print(model.predict(x_test[23].reshape(1,28,28,1)))"
   ]
  },
  {
   "cell_type": "code",
   "execution_count": null,
   "metadata": {},
   "outputs": [],
   "source": []
  }
 ],
 "metadata": {
  "kernelspec": {
   "display_name": "Python 3",
   "language": "python",
   "name": "python3"
  },
  "language_info": {
   "codemirror_mode": {
    "name": "ipython",
    "version": 3
   },
   "file_extension": ".py",
   "mimetype": "text/x-python",
   "name": "python",
   "nbconvert_exporter": "python",
   "pygments_lexer": "ipython3",
   "version": "3.7.5"
  }
 },
 "nbformat": 4,
 "nbformat_minor": 2
}
